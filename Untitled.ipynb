{
 "cells": [
  {
   "cell_type": "code",
   "execution_count": 1,
   "id": "eb43f404",
   "metadata": {},
   "outputs": [
    {
     "name": "stderr",
     "output_type": "stream",
     "text": [
      "2023-02-13 02:54:25.870210: I tensorflow/core/platform/cpu_feature_guard.cc:193] This TensorFlow binary is optimized with oneAPI Deep Neural Network Library (oneDNN) to use the following CPU instructions in performance-critical operations:  AVX2 FMA\n",
      "To enable them in other operations, rebuild TensorFlow with the appropriate compiler flags.\n",
      "2023-02-13 02:54:26.002902: E tensorflow/stream_executor/cuda/cuda_blas.cc:2981] Unable to register cuBLAS factory: Attempting to register factory for plugin cuBLAS when one has already been registered\n",
      "2023-02-13 02:54:26.554069: W tensorflow/stream_executor/platform/default/dso_loader.cc:64] Could not load dynamic library 'libnvinfer.so.7'; dlerror: libnvinfer.so.7: cannot open shared object file: No such file or directory; LD_LIBRARY_PATH: :/home/omkar/miniconda3/envs/mrcnn9/lib/:/home/omkar/miniconda3/envs/mrcnn7/lib/:/home/omkar/miniconda3/envs/mrcnn9/lib/\n",
      "2023-02-13 02:54:26.554264: W tensorflow/stream_executor/platform/default/dso_loader.cc:64] Could not load dynamic library 'libnvinfer_plugin.so.7'; dlerror: libnvinfer_plugin.so.7: cannot open shared object file: No such file or directory; LD_LIBRARY_PATH: :/home/omkar/miniconda3/envs/mrcnn9/lib/:/home/omkar/miniconda3/envs/mrcnn7/lib/:/home/omkar/miniconda3/envs/mrcnn9/lib/\n",
      "2023-02-13 02:54:26.554271: W tensorflow/compiler/tf2tensorrt/utils/py_utils.cc:38] TF-TRT Warning: Cannot dlopen some TensorRT libraries. If you would like to use Nvidia GPU with TensorRT, please make sure the missing libraries mentioned above are installed properly.\n"
     ]
    }
   ],
   "source": [
    "import tensorflow as tf\n",
    "import numpy as np"
   ]
  },
  {
   "cell_type": "code",
   "execution_count": 2,
   "id": "86ab4004",
   "metadata": {},
   "outputs": [
    {
     "name": "stderr",
     "output_type": "stream",
     "text": [
      "2023-02-13 02:54:27.147433: I tensorflow/stream_executor/cuda/cuda_gpu_executor.cc:980] successful NUMA node read from SysFS had negative value (-1), but there must be at least one NUMA node, so returning NUMA node zero\n",
      "2023-02-13 02:54:27.153861: I tensorflow/stream_executor/cuda/cuda_gpu_executor.cc:980] successful NUMA node read from SysFS had negative value (-1), but there must be at least one NUMA node, so returning NUMA node zero\n",
      "2023-02-13 02:54:27.154020: I tensorflow/stream_executor/cuda/cuda_gpu_executor.cc:980] successful NUMA node read from SysFS had negative value (-1), but there must be at least one NUMA node, so returning NUMA node zero\n",
      "2023-02-13 02:54:27.154592: I tensorflow/core/platform/cpu_feature_guard.cc:193] This TensorFlow binary is optimized with oneAPI Deep Neural Network Library (oneDNN) to use the following CPU instructions in performance-critical operations:  AVX2 FMA\n",
      "To enable them in other operations, rebuild TensorFlow with the appropriate compiler flags.\n",
      "2023-02-13 02:54:27.155150: I tensorflow/stream_executor/cuda/cuda_gpu_executor.cc:980] successful NUMA node read from SysFS had negative value (-1), but there must be at least one NUMA node, so returning NUMA node zero\n",
      "2023-02-13 02:54:27.155333: I tensorflow/stream_executor/cuda/cuda_gpu_executor.cc:980] successful NUMA node read from SysFS had negative value (-1), but there must be at least one NUMA node, so returning NUMA node zero\n",
      "2023-02-13 02:54:27.155511: I tensorflow/stream_executor/cuda/cuda_gpu_executor.cc:980] successful NUMA node read from SysFS had negative value (-1), but there must be at least one NUMA node, so returning NUMA node zero\n",
      "2023-02-13 02:54:27.576928: I tensorflow/stream_executor/cuda/cuda_gpu_executor.cc:980] successful NUMA node read from SysFS had negative value (-1), but there must be at least one NUMA node, so returning NUMA node zero\n",
      "2023-02-13 02:54:27.577079: I tensorflow/stream_executor/cuda/cuda_gpu_executor.cc:980] successful NUMA node read from SysFS had negative value (-1), but there must be at least one NUMA node, so returning NUMA node zero\n",
      "2023-02-13 02:54:27.577194: I tensorflow/stream_executor/cuda/cuda_gpu_executor.cc:980] successful NUMA node read from SysFS had negative value (-1), but there must be at least one NUMA node, so returning NUMA node zero\n",
      "2023-02-13 02:54:27.577294: I tensorflow/core/common_runtime/gpu/gpu_device.cc:1616] Created device /job:localhost/replica:0/task:0/device:GPU:0 with 5023 MB memory:  -> device: 0, name: NVIDIA GeForce GTX 1060 6GB, pci bus id: 0000:01:00.0, compute capability: 6.1\n"
     ]
    }
   ],
   "source": [
    "Y = tf.random.normal(shape = (4,3,3,2))"
   ]
  },
  {
   "cell_type": "code",
   "execution_count": 3,
   "id": "c546d81c",
   "metadata": {},
   "outputs": [
    {
     "data": {
      "text/plain": [
       "<tf.Tensor: shape=(4, 3, 3, 2), dtype=float32, numpy=\n",
       "array([[[[-1.7140696 , -0.4666877 ],\n",
       "         [ 0.64536065,  2.308967  ],\n",
       "         [-0.00750875,  0.13192385]],\n",
       "\n",
       "        [[-1.2183712 , -0.6740719 ],\n",
       "         [ 0.15208462,  1.5772215 ],\n",
       "         [ 1.2837441 , -1.1845387 ]],\n",
       "\n",
       "        [[-0.0997363 ,  0.25341815],\n",
       "         [-1.4301604 ,  1.3875315 ],\n",
       "         [-0.6795131 ,  0.7168438 ]]],\n",
       "\n",
       "\n",
       "       [[[ 1.3512391 , -1.7412902 ],\n",
       "         [ 0.4077479 ,  1.2059555 ],\n",
       "         [ 1.5994365 , -1.0559403 ]],\n",
       "\n",
       "        [[-0.96226674, -0.25009164],\n",
       "         [-0.17621581,  1.2392042 ],\n",
       "         [-0.8566588 , -0.6518904 ]],\n",
       "\n",
       "        [[-0.95188093,  1.703518  ],\n",
       "         [-1.8606168 , -1.5479228 ],\n",
       "         [ 1.3378297 ,  1.1979449 ]]],\n",
       "\n",
       "\n",
       "       [[[ 1.2814283 ,  0.44859833],\n",
       "         [-0.8431233 , -0.7469407 ],\n",
       "         [ 2.13706   , -0.8234024 ]],\n",
       "\n",
       "        [[-0.38585427, -0.9983696 ],\n",
       "         [ 1.4033751 ,  0.12979822],\n",
       "         [-0.7501025 , -2.3114018 ]],\n",
       "\n",
       "        [[ 0.5026742 , -0.899938  ],\n",
       "         [ 1.2443143 ,  0.39318603],\n",
       "         [ 0.4704053 , -0.7346475 ]]],\n",
       "\n",
       "\n",
       "       [[[ 0.64190686, -0.81610477],\n",
       "         [-0.16274989,  0.55236065],\n",
       "         [ 0.25396872, -0.9285854 ]],\n",
       "\n",
       "        [[ 0.51468253, -1.1711706 ],\n",
       "         [ 1.1564388 ,  1.7479552 ],\n",
       "         [ 0.45707008,  0.2844541 ]],\n",
       "\n",
       "        [[ 0.16270253,  0.11764393],\n",
       "         [-0.6298447 ,  0.42802164],\n",
       "         [-0.8679701 , -0.31861112]]]], dtype=float32)>"
      ]
     },
     "execution_count": 3,
     "metadata": {},
     "output_type": "execute_result"
    }
   ],
   "source": [
    "Y"
   ]
  },
  {
   "cell_type": "code",
   "execution_count": 4,
   "id": "9a9ecbf3",
   "metadata": {},
   "outputs": [],
   "source": [
    "Y1 = Y[:,:,:,0]"
   ]
  },
  {
   "cell_type": "code",
   "execution_count": 5,
   "id": "cb9bbcd5",
   "metadata": {},
   "outputs": [],
   "source": [
    "Y2 = tf.math.greater(Y1, tf.constant([0.9]))"
   ]
  },
  {
   "cell_type": "code",
   "execution_count": 6,
   "id": "2563717d",
   "metadata": {},
   "outputs": [
    {
     "data": {
      "text/plain": [
       "<tf.Tensor: shape=(4, 3, 3), dtype=bool, numpy=\n",
       "array([[[False, False, False],\n",
       "        [False, False,  True],\n",
       "        [False, False, False]],\n",
       "\n",
       "       [[ True, False,  True],\n",
       "        [False, False, False],\n",
       "        [False, False,  True]],\n",
       "\n",
       "       [[ True, False,  True],\n",
       "        [False,  True, False],\n",
       "        [False,  True, False]],\n",
       "\n",
       "       [[False, False, False],\n",
       "        [False,  True, False],\n",
       "        [False, False, False]]])>"
      ]
     },
     "execution_count": 6,
     "metadata": {},
     "output_type": "execute_result"
    }
   ],
   "source": [
    "Y2"
   ]
  },
  {
   "cell_type": "code",
   "execution_count": 7,
   "id": "122ed81f",
   "metadata": {},
   "outputs": [],
   "source": [
    "Y3 = tf.cast(Y2, dtype=tf.int32)"
   ]
  },
  {
   "cell_type": "code",
   "execution_count": 8,
   "id": "2c01b401",
   "metadata": {},
   "outputs": [
    {
     "data": {
      "text/plain": [
       "<tf.Tensor: shape=(4, 3, 3), dtype=int32, numpy=\n",
       "array([[[0, 0, 0],\n",
       "        [0, 0, 1],\n",
       "        [0, 0, 0]],\n",
       "\n",
       "       [[1, 0, 1],\n",
       "        [0, 0, 0],\n",
       "        [0, 0, 1]],\n",
       "\n",
       "       [[1, 0, 1],\n",
       "        [0, 1, 0],\n",
       "        [0, 1, 0]],\n",
       "\n",
       "       [[0, 0, 0],\n",
       "        [0, 1, 0],\n",
       "        [0, 0, 0]]], dtype=int32)>"
      ]
     },
     "execution_count": 8,
     "metadata": {},
     "output_type": "execute_result"
    }
   ],
   "source": [
    "Y3"
   ]
  },
  {
   "cell_type": "code",
   "execution_count": 9,
   "id": "ed44c44f",
   "metadata": {},
   "outputs": [],
   "source": [
    "Y4 = tf.cast(tf.reduce_sum(Y3, axis = [1,2]), dtype=tf.float32)"
   ]
  },
  {
   "cell_type": "code",
   "execution_count": 10,
   "id": "440fa3bc",
   "metadata": {},
   "outputs": [
    {
     "data": {
      "text/plain": [
       "<tf.Tensor: shape=(4,), dtype=float32, numpy=array([1., 3., 4., 1.], dtype=float32)>"
      ]
     },
     "execution_count": 10,
     "metadata": {},
     "output_type": "execute_result"
    }
   ],
   "source": [
    "Y4"
   ]
  },
  {
   "cell_type": "code",
   "execution_count": 11,
   "id": "c3975ba6",
   "metadata": {},
   "outputs": [],
   "source": [
    "Y5 = Y4 / tf.cast(tf.size(Y1), dtype=tf.float32)"
   ]
  },
  {
   "cell_type": "code",
   "execution_count": 12,
   "id": "680c1135",
   "metadata": {},
   "outputs": [
    {
     "data": {
      "text/plain": [
       "<tf.Tensor: shape=(), dtype=float32, numpy=36.0>"
      ]
     },
     "execution_count": 12,
     "metadata": {},
     "output_type": "execute_result"
    }
   ],
   "source": [
    "tf.cast(tf.size(Y1), dtype=tf.float32)"
   ]
  },
  {
   "cell_type": "code",
   "execution_count": 13,
   "id": "22385476",
   "metadata": {},
   "outputs": [
    {
     "data": {
      "text/plain": [
       "<tf.Tensor: shape=(4,), dtype=float32, numpy=array([0.02777778, 0.08333334, 0.11111111, 0.02777778], dtype=float32)>"
      ]
     },
     "execution_count": 13,
     "metadata": {},
     "output_type": "execute_result"
    }
   ],
   "source": [
    "Y5"
   ]
  },
  {
   "cell_type": "code",
   "execution_count": 14,
   "id": "8ad9b0fe",
   "metadata": {},
   "outputs": [],
   "source": [
    "mae = tf.keras.losses.MeanAbsoluteError()"
   ]
  },
  {
   "cell_type": "code",
   "execution_count": 15,
   "id": "4a39cfdc",
   "metadata": {},
   "outputs": [
    {
     "data": {
      "text/plain": [
       "<tf.Tensor: shape=(), dtype=float32, numpy=0.1875>"
      ]
     },
     "execution_count": 15,
     "metadata": {},
     "output_type": "execute_result"
    }
   ],
   "source": [
    "mae(Y5, tf.constant([0.1,0.2,0.3,0.4]))"
   ]
  },
  {
   "cell_type": "code",
   "execution_count": 21,
   "id": "df0ef0ec",
   "metadata": {},
   "outputs": [],
   "source": [
    "x = np.array([134, 231, 98])"
   ]
  },
  {
   "cell_type": "code",
   "execution_count": 22,
   "id": "a97af8f3",
   "metadata": {},
   "outputs": [
    {
     "data": {
      "text/plain": [
       "array([0.5254902 , 0.90588235, 0.38431373])"
      ]
     },
     "execution_count": 22,
     "metadata": {},
     "output_type": "execute_result"
    }
   ],
   "source": [
    "x/255.0"
   ]
  },
  {
   "cell_type": "code",
   "execution_count": null,
   "id": "7308b8b8",
   "metadata": {},
   "outputs": [],
   "source": []
  }
 ],
 "metadata": {
  "kernelspec": {
   "display_name": "Python 3 (ipykernel)",
   "language": "python",
   "name": "python3"
  },
  "language_info": {
   "codemirror_mode": {
    "name": "ipython",
    "version": 3
   },
   "file_extension": ".py",
   "mimetype": "text/x-python",
   "name": "python",
   "nbconvert_exporter": "python",
   "pygments_lexer": "ipython3",
   "version": "3.10.9"
  }
 },
 "nbformat": 4,
 "nbformat_minor": 5
}
